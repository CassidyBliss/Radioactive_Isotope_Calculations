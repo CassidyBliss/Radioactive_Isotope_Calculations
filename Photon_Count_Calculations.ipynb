{
 "cells": [
  {
   "cell_type": "markdown",
   "id": "nervous-intensity",
   "metadata": {},
   "source": [
    "# Calculations V5\n",
    "\n",
    "---\n"
   ]
  },
  {
   "cell_type": "code",
   "execution_count": null,
   "id": "adopted-region",
   "metadata": {},
   "outputs": [],
   "source": []
  },
  {
   "cell_type": "code",
   "execution_count": null,
   "id": "changing-given",
   "metadata": {},
   "outputs": [],
   "source": []
  },
  {
   "cell_type": "markdown",
   "id": "chemical-values",
   "metadata": {},
   "source": [
    "**IMPORTS**"
   ]
  },
  {
   "cell_type": "code",
   "execution_count": 1,
   "id": "illegal-details",
   "metadata": {},
   "outputs": [],
   "source": [
    "import numpy as np\n",
    "import pandas as pd\n",
    "import numpy as np\n",
    "from termcolor import colored"
   ]
  },
  {
   "cell_type": "markdown",
   "id": "desperate-offense",
   "metadata": {},
   "source": [
    "include all lines- sum the intensity if too close and combine\n"
   ]
  },
  {
   "cell_type": "markdown",
   "id": "cultural-officer",
   "metadata": {},
   "source": [
    "get activity Cs137"
   ]
  },
  {
   "cell_type": "markdown",
   "id": "african-president",
   "metadata": {},
   "source": [
    "arrays as lines - isotope as class"
   ]
  },
  {
   "cell_type": "markdown",
   "id": "based-chinese",
   "metadata": {},
   "source": [
    "resolution paper- function that gives resolution of the soft x-ray detector as a function of energy"
   ]
  },
  {
   "cell_type": "markdown",
   "id": "backed-setup",
   "metadata": {},
   "source": [
    "approximate for hard x-ray detector - 0.25 ish too close at 10 0.5 at upper"
   ]
  },
  {
   "cell_type": "markdown",
   "id": "proper-protein",
   "metadata": {},
   "source": [
    "1-15/20 and 5-40/50 soft and hard relatively"
   ]
  },
  {
   "cell_type": "markdown",
   "id": "sorted-dimension",
   "metadata": {},
   "source": [
    "---"
   ]
  },
  {
   "cell_type": "markdown",
   "id": "recent-clone",
   "metadata": {},
   "source": [
    "**CLASSES (currently hidden- click on blue bar on left of module to access)**"
   ]
  },
  {
   "cell_type": "code",
   "execution_count": 2,
   "id": "configured-coach",
   "metadata": {
    "jupyter": {
     "source_hidden": true
    }
   },
   "outputs": [],
   "source": [
    "#Fe-55 Line 1 Class\n",
    "\n",
    "class Fe55_L1:\n",
    "\n",
    "    name = \"Fe55_L1\"\n",
    "    \n",
    "    energy = 5.9\n",
    "    \n",
    "    intensity= 0.287\n",
    "    \n",
    "    amount_act = 100\n",
    "    \n",
    "    ap_size =6e-4\n",
    "    "
   ]
  },
  {
   "cell_type": "code",
   "execution_count": 3,
   "id": "diagnostic-division",
   "metadata": {
    "jupyter": {
     "source_hidden": true
    }
   },
   "outputs": [],
   "source": [
    "#Fe-55 Line 2 Class\n",
    "\n",
    "class Fe55_L2:\n",
    "\n",
    "    name = \"Fe55_L2\"\n",
    "    \n",
    "    energy = 6.5\n",
    "    \n",
    "    intensity= 0.0198\n",
    "    \n",
    "    amount_act =100\n",
    "    \n",
    "    ap_size =6e-4\n"
   ]
  },
  {
   "cell_type": "code",
   "execution_count": 4,
   "id": "spectacular-interface",
   "metadata": {
    "jupyter": {
     "source_hidden": true
    }
   },
   "outputs": [],
   "source": [
    "class Am241_L1:\n",
    "    \n",
    "    name = \"Am241_L1\"\n",
    " \n",
    "    energy = 59.6\n",
    "\n",
    "    intensity= 0.359\n",
    "    \n",
    "    amount_act = 1\n",
    "    \n",
    "    ap_size =1.5e-1"
   ]
  },
  {
   "cell_type": "code",
   "execution_count": 5,
   "id": "judicial-musical",
   "metadata": {
    "jupyter": {
     "source_hidden": true
    }
   },
   "outputs": [],
   "source": [
    "class Am241_L2:\n",
    "\n",
    "    name = \"Am241_L2\"\n",
    "\n",
    "    energy = 26.3448\n",
    "    \n",
    "    intensity= 0.024\n",
    "    \n",
    "    amount_act = 1\n",
    "    \n",
    "    ap_size =1.5e-1"
   ]
  },
  {
   "cell_type": "code",
   "execution_count": 6,
   "id": "ultimate-parking",
   "metadata": {
    "jupyter": {
     "source_hidden": true
    }
   },
   "outputs": [],
   "source": [
    "\n",
    "class Am241_L3:\n",
    "\n",
    "    name = \"Am241_L3\"\n",
    "    \n",
    "    energy = 17.751\n",
    "    \n",
    "    intensity= 0.1107\n",
    "    \n",
    "    amount_act = 1\n",
    "    \n",
    "    ap_size =1.5e-1"
   ]
  },
  {
   "cell_type": "code",
   "execution_count": 7,
   "id": "satisfactory-rolling",
   "metadata": {
    "jupyter": {
     "source_hidden": true
    }
   },
   "outputs": [],
   "source": [
    "class Zn65_L1:\n",
    "    \n",
    "    name = \"Zn65_L1\"\n",
    "    \n",
    "    energy= 8.048\n",
    "    \n",
    "    intensity = 0.359\n",
    "    \n",
    "    amount_act= 10\n",
    "    \n",
    "    ap_size = 6e-4"
   ]
  },
  {
   "cell_type": "code",
   "execution_count": 8,
   "id": "removed-kenya",
   "metadata": {
    "jupyter": {
     "source_hidden": true
    }
   },
   "outputs": [],
   "source": [
    "class Ba133_L1:\n",
    "    \n",
    "    name = \"Ba133_L1\"\n",
    "    \n",
    "    energy = 31.0\n",
    "    \n",
    "    intensity = 0.994\n",
    "    \n",
    "    amount_act =10\n",
    "    \n",
    "    ap_size = 1.5e-1"
   ]
  },
  {
   "cell_type": "code",
   "execution_count": 9,
   "id": "naughty-blind",
   "metadata": {
    "jupyter": {
     "source_hidden": true
    }
   },
   "outputs": [],
   "source": [
    "class Ba133_L2:\n",
    "    \n",
    "    name = \"Ba133_L1\"\n",
    "    \n",
    "    energy = 81.0\n",
    "    \n",
    "    intensity = 0.3406\n",
    "    \n",
    "    amount_act =10\n",
    "    \n",
    "    ap_size = 1.5e-1"
   ]
  },
  {
   "cell_type": "code",
   "execution_count": 10,
   "id": "pending-backing",
   "metadata": {
    "jupyter": {
     "source_hidden": true
    }
   },
   "outputs": [],
   "source": [
    "class Ba133_L3:\n",
    "    \n",
    "    name = \"Ba_133_L3\"\n",
    "    \n",
    "    energy = 4.3\n",
    "    \n",
    "    intensity = 0.098\n",
    "    \n",
    "    amount_act =10\n",
    "    \n",
    "    ap_size = 6e-4"
   ]
  },
  {
   "cell_type": "code",
   "execution_count": 11,
   "id": "opponent-morrison",
   "metadata": {
    "jupyter": {
     "source_hidden": true
    }
   },
   "outputs": [],
   "source": [
    "class Cs137_L1:\n",
    "    \n",
    "    name = \"Cs137_L1\"\n",
    "    \n",
    "    energy = 32.0\n",
    "    \n",
    "    intensity = 5.8\n",
    "    \n",
    "    amount_act = 235\n",
    "    \n",
    "    ap_size = 1.5e-1"
   ]
  },
  {
   "cell_type": "markdown",
   "id": "affected-blink",
   "metadata": {},
   "source": [
    "---"
   ]
  },
  {
   "cell_type": "markdown",
   "id": "material-welsh",
   "metadata": {},
   "source": [
    "**VARIABLES**"
   ]
  },
  {
   "cell_type": "code",
   "execution_count": 12,
   "id": "irish-audio",
   "metadata": {},
   "outputs": [],
   "source": [
    "max_source_rate = 10000\n",
    "\n",
    "min_line_counts = 1000\n",
    "\n",
    "#hardxray ap size\n",
    "#soft x-ray ap size\n",
    "#call variable within classes\n",
    "\n",
    "#Integration time in seconds\n",
    "int_time = 1800\n",
    "\n",
    "min_line_rate = min_line_counts/int_time\n",
    "\n",
    "#decays per second\n",
    "decays_sec = 3.7e4\n",
    "\n",
    "#distance from the spectrometer in cm\n",
    "distance = 8\n"
   ]
  },
  {
   "cell_type": "markdown",
   "id": "constant-justice",
   "metadata": {},
   "source": [
    "---"
   ]
  },
  {
   "cell_type": "markdown",
   "id": "blessed-function",
   "metadata": {},
   "source": [
    "**CALCULATE FUNCTION**"
   ]
  },
  {
   "cell_type": "code",
   "execution_count": 13,
   "id": "aging-cholesterol",
   "metadata": {},
   "outputs": [],
   "source": [
    "#This function is design to pass through 3 classes, each of which contain data for a line emission within an isotope\n",
    "# Calculate (class 1, class 2, class 3)\n",
    "#If lines do not exist for that isotope, put a 0 in the place of that class\n",
    "#The output 1 of this function is currently a set of print statements that act as the notification for constaint compliance\n",
    "#Output 2 of this function is currently a df but can easily be a numpy array if needed\n",
    "\n",
    "def Calculate(line_1, line_2, line_3):\n",
    "    \n",
    "    #Create empty array to store calculation results and associated features\n",
    "    calc_array = []\n",
    "    \n",
    "    #*******Line 1 Calcs*********************\n",
    "    \n",
    "    #Calculate the count rate for line1 in photons/sec\n",
    "    count_rate1 = (line_1.intensity*decays_sec*line_1.amount_act*line_1.ap_size)/(4*np.pi*(distance**2))\n",
    "    \n",
    "    #Calculate total count for line 1 over the integration time \n",
    "    line_count1 = (count_rate1* int_time) #Will multiply this times efficiency of detector- unitless- \n",
    "    \n",
    "    #append results as a row to array with associated features\n",
    "    calc_array.append([line_1.name,line_1.energy, \"{:.3e}\".format(count_rate1), \"{:.3e}\".format(line_count1), int_time/60, distance])\n",
    "    \n",
    "    #************Line 2 Calcs*****************\n",
    "    \n",
    "    #If the isotope as a second emission:\n",
    "    if line_2 != 0:\n",
    "        \n",
    "        #Calculate the count rate for line 2 in photons/sec\n",
    "        count_rate2 = (line_2.intensity*decays_sec*line_2.amount_act*line_2.ap_size)/(4*np.pi*(distance**2))\n",
    "        \n",
    "        #Calculate total count for line 2 over the integration time\n",
    "        line_count2 = (count_rate2* int_time)\n",
    "        \n",
    "        #append results as a row to array with associated features\n",
    "        calc_array.append([line_2.name, line_2.energy, \"{:.3e}\".format(count_rate2), \"{:.3e}\".format(line_count2), int_time/60, distance])\n",
    "   \n",
    "    #If that isotope does not have a second emission:   \n",
    "    else:\n",
    "        \n",
    "        #set count rate line 2 to 0\n",
    "        count_rate2 = 0\n",
    "        \n",
    "        #set line 2 count\n",
    "        line_count2 =0\n",
    "        \n",
    "    #**************Line 3 Calcs********************\n",
    "    \n",
    "    #If the isotope as a third emission:\n",
    "    if line_3 != 0:\n",
    "        \n",
    "        #Calculate the count rate for line 2 \n",
    "        count_rate3 = (line_3.intensity*decays_sec*line_3.amount_act*line_3.ap_size)/(4*np.pi*(distance**2))\n",
    "        \n",
    "        #Calculate total count for line 3 over the integration time\n",
    "        line_count3 = (count_rate3* int_time)\n",
    "        \n",
    "        #append results as a row to array with associated features\n",
    "        calc_array.append([line_3.name, line_3.energy, \"{:.3e}\".format(count_rate3), \"{:.3e}\".format(line_count3), int_time/60, distance])\n",
    "    \n",
    "    #If that isotope does not have a third emission: \n",
    "    else:\n",
    "        \n",
    "        #set count rate line 3 to 0\n",
    "        count_rate3 =0\n",
    "        \n",
    "        #set line 3 count to 0\n",
    "        line_count3 =0\n",
    "    \n",
    "    #*************Source Calcs***************************\n",
    "    source_count_rate = count_rate1 + count_rate2 + count_rate3\n",
    "    source_count = line_count1 + line_count2 + line_count3\n",
    "    calc_array.append([\"All Lines\",\"All Energies\",\"{:.3e}\".format(source_count_rate), \"{:.3e}\".format(source_count), int_time/60, distance])\n",
    "    \n",
    "    \n",
    "    #***************Constraints Notifications*********************\n",
    "    \n",
    "    #Print out whether each line count rate is within constraints or not if those lines exist\n",
    "    #Should be a calculation\n",
    "    if count_rate1 > min_line_rate:\n",
    "        print(colored(\"count rate line 1 is within constraints\", \"green\"))\n",
    "    else:\n",
    "        print(colored(\"count rate line 1 is NOT within constraints\",\"red\"))\n",
    "        \n",
    "    if line_2 != 0 and count_rate2 > min_line_rate:\n",
    "        print(colored(\"count rate line 2 is within constraints\", \"green\"))    \n",
    "    elif line_2 != 0:\n",
    "        print(colored(\"count rate line 2 is NOT within constraints\",\"red\"))\n",
    "    \n",
    "    if line_3 != 0 and count_rate3 > min_line_rate:\n",
    "        print(colored(\"count rate line 3 is within constraints\", \"green\"))    \n",
    "    elif line_3 !=0 :\n",
    "        print(colored(\"count rate line 3 is NOT within constraints\",\"red\"))    \n",
    "    \n",
    "    #Print out whether the overall source count rate is wihtin constraints or not\n",
    "    if source_count_rate < max_source_rate:\n",
    "        print(colored(\"Source Count Rate is within constraints\", \"green\"))\n",
    "    else:\n",
    "        print(colored(\"Source Count Rate  is NOT within constraints\",\"red\"))   \n",
    "    \n",
    "    #Print out whether each line count is within constraints or not\n",
    "    if line_count1 > min_line_counts:\n",
    "        print(colored(\"total counts line 1 is within constraints\", \"green\"))\n",
    "    else:\n",
    "        print(colored(\"total counts line 1 is NOT within constraints\",\"red\"))\n",
    "        \n",
    "    if line_2 != 0 and line_count2 > min_line_counts:\n",
    "        print(colored(\"total counts line 2 is within constraints\", \"green\"))\n",
    "    elif line_2 != 0:\n",
    "        print(colored(\"total counts line 2 is NOT within constraints\",\"red\"))\n",
    "        \n",
    "    if line_3 !=0 and line_count3 > min_line_counts:\n",
    "        print(colored(\"total counts line 3 is within constraints\", \"green\"))\n",
    "    elif line_3 !=0:\n",
    "        print(colored(\"total counts line 3 is NOT within constraints\",\"red\"))\n",
    "    \n",
    "    \n",
    "    \n",
    "    #********Format Results*********************************\n",
    "    results_df = pd.DataFrame(calc_array)\n",
    "    results_df.columns = (\"Isotope _line#\",\"Energy (keV)\",\"Count Rate (photon/sec)\", \"Count (photons)\",\"Integration Time (minutes)\", \"Distance (cm)\")\n",
    "    \n",
    "    #*********Return Results********************************\n",
    "    return results_df"
   ]
  },
  {
   "cell_type": "code",
   "execution_count": 14,
   "id": "honey-helicopter",
   "metadata": {},
   "outputs": [
    {
     "name": "stdout",
     "output_type": "stream",
     "text": [
      "\u001b[32mcount rate line 1 is within constraints\u001b[0m\n",
      "\u001b[32mSource Count Rate is within constraints\u001b[0m\n",
      "\u001b[32mtotal counts line 1 is within constraints\u001b[0m\n"
     ]
    },
    {
     "data": {
      "text/html": [
       "<div>\n",
       "<style scoped>\n",
       "    .dataframe tbody tr th:only-of-type {\n",
       "        vertical-align: middle;\n",
       "    }\n",
       "\n",
       "    .dataframe tbody tr th {\n",
       "        vertical-align: top;\n",
       "    }\n",
       "\n",
       "    .dataframe thead th {\n",
       "        text-align: right;\n",
       "    }\n",
       "</style>\n",
       "<table border=\"1\" class=\"dataframe\">\n",
       "  <thead>\n",
       "    <tr style=\"text-align: right;\">\n",
       "      <th></th>\n",
       "      <th>Isotope _line#</th>\n",
       "      <th>Energy (keV)</th>\n",
       "      <th>Count Rate (photon/sec)</th>\n",
       "      <th>Count (photons)</th>\n",
       "      <th>Integration Time (minutes)</th>\n",
       "      <th>Distance (cm)</th>\n",
       "    </tr>\n",
       "  </thead>\n",
       "  <tbody>\n",
       "    <tr>\n",
       "      <th>0</th>\n",
       "      <td>Cs137_L1</td>\n",
       "      <td>32</td>\n",
       "      <td>9.406e+03</td>\n",
       "      <td>1.693e+07</td>\n",
       "      <td>30.0</td>\n",
       "      <td>8</td>\n",
       "    </tr>\n",
       "    <tr>\n",
       "      <th>1</th>\n",
       "      <td>All Lines</td>\n",
       "      <td>All Energies</td>\n",
       "      <td>9.406e+03</td>\n",
       "      <td>1.693e+07</td>\n",
       "      <td>30.0</td>\n",
       "      <td>8</td>\n",
       "    </tr>\n",
       "  </tbody>\n",
       "</table>\n",
       "</div>"
      ],
      "text/plain": [
       "  Isotope _line#  Energy (keV) Count Rate (photon/sec) Count (photons)  \\\n",
       "0       Cs137_L1            32               9.406e+03       1.693e+07   \n",
       "1      All Lines  All Energies               9.406e+03       1.693e+07   \n",
       "\n",
       "   Integration Time (minutes)  Distance (cm)  \n",
       "0                        30.0              8  \n",
       "1                        30.0              8  "
      ]
     },
     "execution_count": 14,
     "metadata": {},
     "output_type": "execute_result"
    }
   ],
   "source": [
    "#Calculate for Fe55\n",
    "Cs137_results = Calculate(Cs137_L1,0,0)\n",
    "\n",
    "#Display results\n",
    "Cs137_results"
   ]
  },
  {
   "cell_type": "markdown",
   "id": "brilliant-angle",
   "metadata": {},
   "source": [
    "---\n",
    "**Iron 55 Results**\n",
    "\n",
    "---"
   ]
  },
  {
   "cell_type": "code",
   "execution_count": 15,
   "id": "found-peter",
   "metadata": {},
   "outputs": [
    {
     "name": "stdout",
     "output_type": "stream",
     "text": [
      "\u001b[32mcount rate line 1 is within constraints\u001b[0m\n",
      "\u001b[31mcount rate line 2 is NOT within constraints\u001b[0m\n",
      "\u001b[32mSource Count Rate is within constraints\u001b[0m\n",
      "\u001b[32mtotal counts line 1 is within constraints\u001b[0m\n",
      "\u001b[31mtotal counts line 2 is NOT within constraints\u001b[0m\n"
     ]
    },
    {
     "data": {
      "text/html": [
       "<div>\n",
       "<style scoped>\n",
       "    .dataframe tbody tr th:only-of-type {\n",
       "        vertical-align: middle;\n",
       "    }\n",
       "\n",
       "    .dataframe tbody tr th {\n",
       "        vertical-align: top;\n",
       "    }\n",
       "\n",
       "    .dataframe thead th {\n",
       "        text-align: right;\n",
       "    }\n",
       "</style>\n",
       "<table border=\"1\" class=\"dataframe\">\n",
       "  <thead>\n",
       "    <tr style=\"text-align: right;\">\n",
       "      <th></th>\n",
       "      <th>Isotope _line#</th>\n",
       "      <th>Energy (keV)</th>\n",
       "      <th>Count Rate (photon/sec)</th>\n",
       "      <th>Count (photons)</th>\n",
       "      <th>Integration Time (minutes)</th>\n",
       "      <th>Distance (cm)</th>\n",
       "    </tr>\n",
       "  </thead>\n",
       "  <tbody>\n",
       "    <tr>\n",
       "      <th>0</th>\n",
       "      <td>Fe55_L1</td>\n",
       "      <td>5.9</td>\n",
       "      <td>7.922e-01</td>\n",
       "      <td>1.426e+03</td>\n",
       "      <td>30.0</td>\n",
       "      <td>8</td>\n",
       "    </tr>\n",
       "    <tr>\n",
       "      <th>1</th>\n",
       "      <td>Fe55_L2</td>\n",
       "      <td>6.5</td>\n",
       "      <td>5.465e-02</td>\n",
       "      <td>9.838e+01</td>\n",
       "      <td>30.0</td>\n",
       "      <td>8</td>\n",
       "    </tr>\n",
       "    <tr>\n",
       "      <th>2</th>\n",
       "      <td>All Lines</td>\n",
       "      <td>All Energies</td>\n",
       "      <td>8.469e-01</td>\n",
       "      <td>1.524e+03</td>\n",
       "      <td>30.0</td>\n",
       "      <td>8</td>\n",
       "    </tr>\n",
       "  </tbody>\n",
       "</table>\n",
       "</div>"
      ],
      "text/plain": [
       "  Isotope _line#  Energy (keV) Count Rate (photon/sec) Count (photons)  \\\n",
       "0        Fe55_L1           5.9               7.922e-01       1.426e+03   \n",
       "1        Fe55_L2           6.5               5.465e-02       9.838e+01   \n",
       "2      All Lines  All Energies               8.469e-01       1.524e+03   \n",
       "\n",
       "   Integration Time (minutes)  Distance (cm)  \n",
       "0                        30.0              8  \n",
       "1                        30.0              8  \n",
       "2                        30.0              8  "
      ]
     },
     "execution_count": 15,
     "metadata": {},
     "output_type": "execute_result"
    }
   ],
   "source": [
    "#Calculate for Fe55\n",
    "Fe55_results = Calculate(Fe55_L1,Fe55_L2,0)\n",
    "\n",
    "#Display results\n",
    "Fe55_results\n"
   ]
  },
  {
   "cell_type": "markdown",
   "id": "aerial-steps",
   "metadata": {},
   "source": [
    "---\n",
    "**Americium 241 Results**\n",
    "\n",
    "---"
   ]
  },
  {
   "cell_type": "code",
   "execution_count": 16,
   "id": "willing-theme",
   "metadata": {},
   "outputs": [
    {
     "name": "stdout",
     "output_type": "stream",
     "text": [
      "\u001b[32mcount rate line 1 is within constraints\u001b[0m\n",
      "\u001b[31mcount rate line 2 is NOT within constraints\u001b[0m\n",
      "\u001b[32mcount rate line 3 is within constraints\u001b[0m\n",
      "\u001b[32mSource Count Rate is within constraints\u001b[0m\n",
      "\u001b[32mtotal counts line 1 is within constraints\u001b[0m\n",
      "\u001b[31mtotal counts line 2 is NOT within constraints\u001b[0m\n",
      "\u001b[32mtotal counts line 3 is within constraints\u001b[0m\n"
     ]
    },
    {
     "data": {
      "text/html": [
       "<div>\n",
       "<style scoped>\n",
       "    .dataframe tbody tr th:only-of-type {\n",
       "        vertical-align: middle;\n",
       "    }\n",
       "\n",
       "    .dataframe tbody tr th {\n",
       "        vertical-align: top;\n",
       "    }\n",
       "\n",
       "    .dataframe thead th {\n",
       "        text-align: right;\n",
       "    }\n",
       "</style>\n",
       "<table border=\"1\" class=\"dataframe\">\n",
       "  <thead>\n",
       "    <tr style=\"text-align: right;\">\n",
       "      <th></th>\n",
       "      <th>Isotope _line#</th>\n",
       "      <th>Energy (keV)</th>\n",
       "      <th>Count Rate (photon/sec)</th>\n",
       "      <th>Count (photons)</th>\n",
       "      <th>Integration Time (minutes)</th>\n",
       "      <th>Distance (cm)</th>\n",
       "    </tr>\n",
       "  </thead>\n",
       "  <tbody>\n",
       "    <tr>\n",
       "      <th>0</th>\n",
       "      <td>Am241_L1</td>\n",
       "      <td>59.6</td>\n",
       "      <td>2.477e+00</td>\n",
       "      <td>4.459e+03</td>\n",
       "      <td>30.0</td>\n",
       "      <td>8</td>\n",
       "    </tr>\n",
       "    <tr>\n",
       "      <th>1</th>\n",
       "      <td>Am241_L2</td>\n",
       "      <td>26.3448</td>\n",
       "      <td>1.656e-01</td>\n",
       "      <td>2.981e+02</td>\n",
       "      <td>30.0</td>\n",
       "      <td>8</td>\n",
       "    </tr>\n",
       "    <tr>\n",
       "      <th>2</th>\n",
       "      <td>Am241_L3</td>\n",
       "      <td>17.751</td>\n",
       "      <td>7.639e-01</td>\n",
       "      <td>1.375e+03</td>\n",
       "      <td>30.0</td>\n",
       "      <td>8</td>\n",
       "    </tr>\n",
       "    <tr>\n",
       "      <th>3</th>\n",
       "      <td>All Lines</td>\n",
       "      <td>All Energies</td>\n",
       "      <td>3.407e+00</td>\n",
       "      <td>6.133e+03</td>\n",
       "      <td>30.0</td>\n",
       "      <td>8</td>\n",
       "    </tr>\n",
       "  </tbody>\n",
       "</table>\n",
       "</div>"
      ],
      "text/plain": [
       "  Isotope _line#  Energy (keV) Count Rate (photon/sec) Count (photons)  \\\n",
       "0       Am241_L1          59.6               2.477e+00       4.459e+03   \n",
       "1       Am241_L2       26.3448               1.656e-01       2.981e+02   \n",
       "2       Am241_L3        17.751               7.639e-01       1.375e+03   \n",
       "3      All Lines  All Energies               3.407e+00       6.133e+03   \n",
       "\n",
       "   Integration Time (minutes)  Distance (cm)  \n",
       "0                        30.0              8  \n",
       "1                        30.0              8  \n",
       "2                        30.0              8  \n",
       "3                        30.0              8  "
      ]
     },
     "execution_count": 16,
     "metadata": {},
     "output_type": "execute_result"
    }
   ],
   "source": [
    "#Calculate for Am241\n",
    "Am241_results = Calculate(Am241_L1,Am241_L2,Am241_L3)\n",
    "\n",
    "#Display Results\n",
    "Am241_results"
   ]
  },
  {
   "cell_type": "markdown",
   "id": "approximate-rescue",
   "metadata": {},
   "source": [
    "---\n",
    "**Zinc 65 Results**\n",
    "\n",
    "---"
   ]
  },
  {
   "cell_type": "code",
   "execution_count": 17,
   "id": "ambient-homeless",
   "metadata": {},
   "outputs": [
    {
     "name": "stdout",
     "output_type": "stream",
     "text": [
      "\u001b[31mcount rate line 1 is NOT within constraints\u001b[0m\n",
      "\u001b[32mSource Count Rate is within constraints\u001b[0m\n",
      "\u001b[31mtotal counts line 1 is NOT within constraints\u001b[0m\n"
     ]
    },
    {
     "data": {
      "text/html": [
       "<div>\n",
       "<style scoped>\n",
       "    .dataframe tbody tr th:only-of-type {\n",
       "        vertical-align: middle;\n",
       "    }\n",
       "\n",
       "    .dataframe tbody tr th {\n",
       "        vertical-align: top;\n",
       "    }\n",
       "\n",
       "    .dataframe thead th {\n",
       "        text-align: right;\n",
       "    }\n",
       "</style>\n",
       "<table border=\"1\" class=\"dataframe\">\n",
       "  <thead>\n",
       "    <tr style=\"text-align: right;\">\n",
       "      <th></th>\n",
       "      <th>Isotope _line#</th>\n",
       "      <th>Energy (keV)</th>\n",
       "      <th>Count Rate (photon/sec)</th>\n",
       "      <th>Count (photons)</th>\n",
       "      <th>Integration Time (minutes)</th>\n",
       "      <th>Distance (cm)</th>\n",
       "    </tr>\n",
       "  </thead>\n",
       "  <tbody>\n",
       "    <tr>\n",
       "      <th>0</th>\n",
       "      <td>Zn65_L1</td>\n",
       "      <td>8.048</td>\n",
       "      <td>9.910e-02</td>\n",
       "      <td>1.784e+02</td>\n",
       "      <td>30.0</td>\n",
       "      <td>8</td>\n",
       "    </tr>\n",
       "    <tr>\n",
       "      <th>1</th>\n",
       "      <td>All Lines</td>\n",
       "      <td>All Energies</td>\n",
       "      <td>9.910e-02</td>\n",
       "      <td>1.784e+02</td>\n",
       "      <td>30.0</td>\n",
       "      <td>8</td>\n",
       "    </tr>\n",
       "  </tbody>\n",
       "</table>\n",
       "</div>"
      ],
      "text/plain": [
       "  Isotope _line#  Energy (keV) Count Rate (photon/sec) Count (photons)  \\\n",
       "0        Zn65_L1         8.048               9.910e-02       1.784e+02   \n",
       "1      All Lines  All Energies               9.910e-02       1.784e+02   \n",
       "\n",
       "   Integration Time (minutes)  Distance (cm)  \n",
       "0                        30.0              8  \n",
       "1                        30.0              8  "
      ]
     },
     "execution_count": 17,
     "metadata": {},
     "output_type": "execute_result"
    }
   ],
   "source": [
    "##Calculate for Zn65\n",
    "Zn65_results = Calculate(Zn65_L1,0,0)\n",
    "\n",
    "#Display results\n",
    "Zn65_results"
   ]
  },
  {
   "cell_type": "markdown",
   "id": "brazilian-sport",
   "metadata": {},
   "source": [
    "---\n",
    "**Barium 133 Results**\n",
    "\n",
    "---"
   ]
  },
  {
   "cell_type": "code",
   "execution_count": 18,
   "id": "dependent-freight",
   "metadata": {},
   "outputs": [
    {
     "name": "stdout",
     "output_type": "stream",
     "text": [
      "\u001b[32mcount rate line 1 is within constraints\u001b[0m\n",
      "\u001b[32mcount rate line 2 is within constraints\u001b[0m\n",
      "\u001b[31mcount rate line 3 is NOT within constraints\u001b[0m\n",
      "\u001b[32mSource Count Rate is within constraints\u001b[0m\n",
      "\u001b[32mtotal counts line 1 is within constraints\u001b[0m\n",
      "\u001b[32mtotal counts line 2 is within constraints\u001b[0m\n",
      "\u001b[31mtotal counts line 3 is NOT within constraints\u001b[0m\n"
     ]
    },
    {
     "data": {
      "text/html": [
       "<div>\n",
       "<style scoped>\n",
       "    .dataframe tbody tr th:only-of-type {\n",
       "        vertical-align: middle;\n",
       "    }\n",
       "\n",
       "    .dataframe tbody tr th {\n",
       "        vertical-align: top;\n",
       "    }\n",
       "\n",
       "    .dataframe thead th {\n",
       "        text-align: right;\n",
       "    }\n",
       "</style>\n",
       "<table border=\"1\" class=\"dataframe\">\n",
       "  <thead>\n",
       "    <tr style=\"text-align: right;\">\n",
       "      <th></th>\n",
       "      <th>Isotope _line#</th>\n",
       "      <th>Energy (keV)</th>\n",
       "      <th>Count Rate (photon/sec)</th>\n",
       "      <th>Count (photons)</th>\n",
       "      <th>Integration Time (minutes)</th>\n",
       "      <th>Distance (cm)</th>\n",
       "    </tr>\n",
       "  </thead>\n",
       "  <tbody>\n",
       "    <tr>\n",
       "      <th>0</th>\n",
       "      <td>Ba133_L1</td>\n",
       "      <td>31</td>\n",
       "      <td>6.859e+01</td>\n",
       "      <td>1.235e+05</td>\n",
       "      <td>30.0</td>\n",
       "      <td>8</td>\n",
       "    </tr>\n",
       "    <tr>\n",
       "      <th>1</th>\n",
       "      <td>Ba133_L1</td>\n",
       "      <td>81</td>\n",
       "      <td>2.350e+01</td>\n",
       "      <td>4.231e+04</td>\n",
       "      <td>30.0</td>\n",
       "      <td>8</td>\n",
       "    </tr>\n",
       "    <tr>\n",
       "      <th>2</th>\n",
       "      <td>Ba_133_L3</td>\n",
       "      <td>4.3</td>\n",
       "      <td>2.705e-02</td>\n",
       "      <td>4.869e+01</td>\n",
       "      <td>30.0</td>\n",
       "      <td>8</td>\n",
       "    </tr>\n",
       "    <tr>\n",
       "      <th>3</th>\n",
       "      <td>All Lines</td>\n",
       "      <td>All Energies</td>\n",
       "      <td>9.213e+01</td>\n",
       "      <td>1.658e+05</td>\n",
       "      <td>30.0</td>\n",
       "      <td>8</td>\n",
       "    </tr>\n",
       "  </tbody>\n",
       "</table>\n",
       "</div>"
      ],
      "text/plain": [
       "  Isotope _line#  Energy (keV) Count Rate (photon/sec) Count (photons)  \\\n",
       "0       Ba133_L1            31               6.859e+01       1.235e+05   \n",
       "1       Ba133_L1            81               2.350e+01       4.231e+04   \n",
       "2      Ba_133_L3           4.3               2.705e-02       4.869e+01   \n",
       "3      All Lines  All Energies               9.213e+01       1.658e+05   \n",
       "\n",
       "   Integration Time (minutes)  Distance (cm)  \n",
       "0                        30.0              8  \n",
       "1                        30.0              8  \n",
       "2                        30.0              8  \n",
       "3                        30.0              8  "
      ]
     },
     "execution_count": 18,
     "metadata": {},
     "output_type": "execute_result"
    }
   ],
   "source": [
    "##Calculate for Ba133\n",
    "Ba133_results = Calculate(Ba133_L1,Ba133_L2,Ba133_L3)\n",
    "\n",
    "#Display results\n",
    "Ba133_results"
   ]
  },
  {
   "cell_type": "code",
   "execution_count": null,
   "id": "documented-machine",
   "metadata": {},
   "outputs": [],
   "source": []
  },
  {
   "cell_type": "code",
   "execution_count": null,
   "id": "exact-basics",
   "metadata": {},
   "outputs": [],
   "source": []
  },
  {
   "cell_type": "code",
   "execution_count": null,
   "id": "occupational-martin",
   "metadata": {},
   "outputs": [],
   "source": []
  },
  {
   "cell_type": "code",
   "execution_count": null,
   "id": "worst-substitute",
   "metadata": {},
   "outputs": [],
   "source": []
  }
 ],
 "metadata": {
  "kernelspec": {
   "display_name": "Python 3",
   "language": "python",
   "name": "python3"
  },
  "language_info": {
   "codemirror_mode": {
    "name": "ipython",
    "version": 3
   },
   "file_extension": ".py",
   "mimetype": "text/x-python",
   "name": "python",
   "nbconvert_exporter": "python",
   "pygments_lexer": "ipython3",
   "version": "3.6.9"
  }
 },
 "nbformat": 4,
 "nbformat_minor": 5
}
